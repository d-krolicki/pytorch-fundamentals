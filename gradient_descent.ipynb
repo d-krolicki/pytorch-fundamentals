{
 "cells": [
  {
   "cell_type": "markdown",
   "id": "a7e7b48e",
   "metadata": {},
   "source": [
    "# In this notebook, an implementation of manual gradient descent is presented."
   ]
  },
  {
   "cell_type": "code",
   "execution_count": 1,
   "id": "54a5971d",
   "metadata": {},
   "outputs": [],
   "source": [
    "import torch"
   ]
  },
  {
   "cell_type": "code",
   "execution_count": 2,
   "id": "3139098b",
   "metadata": {},
   "outputs": [],
   "source": [
    "import numpy as np"
   ]
  },
  {
   "cell_type": "code",
   "execution_count": 3,
   "id": "278636c1",
   "metadata": {},
   "outputs": [],
   "source": [
    "X = np.array([1,2,3,4], dtype=np.float32)\n",
    "Y = np.array([2,4,6,8], dtype=np.float32)\n",
    "\n",
    "w = 0.0"
   ]
  },
  {
   "cell_type": "code",
   "execution_count": 4,
   "id": "2ff62e53",
   "metadata": {},
   "outputs": [],
   "source": [
    "# Model prediction\n",
    "def forward(x):\n",
    "    return w*x"
   ]
  },
  {
   "cell_type": "code",
   "execution_count": 5,
   "id": "9c52de9a",
   "metadata": {},
   "outputs": [],
   "source": [
    "# Loss = MSE, Mean Squared Error\n",
    "def loss(y, y_predicted):\n",
    "    return ((y_predicted-y)**2).mean()"
   ]
  },
  {
   "cell_type": "code",
   "execution_count": 6,
   "id": "72732faf",
   "metadata": {},
   "outputs": [],
   "source": [
    "# Gradients\n",
    "# MSE: 1/N * (w*x - y)**2\n",
    "# dJ/dw = 1/N 2x (w*x - y) - this is our computated derivative\n",
    "def gradient(x,y,y_predicted):\n",
    "    return np.dot(2*x, y_predicted-y).mean()"
   ]
  },
  {
   "cell_type": "code",
   "execution_count": 7,
   "id": "203dcadd",
   "metadata": {},
   "outputs": [
    {
     "name": "stdout",
     "output_type": "stream",
     "text": [
      "Prediction before training: f(5) = 0.000\n",
      "Epoch 1: w = 1.200, loss=30.00000000\n",
      "Epoch 3: w = 1.872, loss=0.76800019\n",
      "Epoch 5: w = 1.980, loss=0.01966083\n",
      "Epoch 7: w = 1.997, loss=0.00050332\n",
      "Epoch 9: w = 1.999, loss=0.00001288\n",
      "Epoch 11: w = 2.000, loss=0.00000033\n",
      "Epoch 13: w = 2.000, loss=0.00000001\n",
      "Epoch 15: w = 2.000, loss=0.00000000\n",
      "Epoch 17: w = 2.000, loss=0.00000000\n",
      "Epoch 19: w = 2.000, loss=0.00000000\n",
      "Prediction after training: 10.000\n"
     ]
    }
   ],
   "source": [
    "# The solution\n",
    "print(f'Prediction before training: f(5) = {forward(5):.3f}')\n",
    "\n",
    "# Training\n",
    "learning_rate = 0.01\n",
    "iter = 20\n",
    "\n",
    "for epoch in range(iter):\n",
    "    # prediction = forward pass\n",
    "    y_pred = forward(X)\n",
    "    \n",
    "    # loss\n",
    "    l = loss(Y, y_pred)\n",
    "    \n",
    "    # gradients\n",
    "    dw = gradient(X, Y, y_pred)\n",
    "    \n",
    "    # update weights\n",
    "    w -= learning_rate * dw\n",
    "    \n",
    "    if epoch % 2 == 0:\n",
    "        print(f'Epoch {epoch+1}: w = {w:.3f}, loss={l:.8f}')\n",
    "\n",
    "print(f'Prediction after training: {forward(5):.3f}')"
   ]
  },
  {
   "cell_type": "markdown",
   "id": "64fcb469",
   "metadata": {},
   "source": [
    "# Now, we will do the same, but using PyTorch only."
   ]
  },
  {
   "cell_type": "code",
   "execution_count": 8,
   "id": "1ce2a65b",
   "metadata": {},
   "outputs": [],
   "source": [
    "# Model prediction\n",
    "# Nothing changed according to the previous approach, so remains unmodified."
   ]
  },
  {
   "cell_type": "code",
   "execution_count": 9,
   "id": "55aec9d0",
   "metadata": {},
   "outputs": [],
   "source": [
    "# Loss\n",
    "# Nothing changed according to the previous approach, so remains unmodified."
   ]
  },
  {
   "cell_type": "code",
   "execution_count": 10,
   "id": "ccf4c2b5",
   "metadata": {},
   "outputs": [],
   "source": [
    "# Gradients\n",
    "# We use PyTorch to compute it."
   ]
  },
  {
   "cell_type": "code",
   "execution_count": 11,
   "id": "65fa0637",
   "metadata": {},
   "outputs": [],
   "source": [
    "X = torch.tensor([1,2,3,4], dtype=torch.float32)\n",
    "Y = torch.tensor([2,4,6,8], dtype=torch.float32)\n",
    "w = torch.tensor(0.0, dtype=torch.float32, requires_grad=True)"
   ]
  },
  {
   "cell_type": "code",
   "execution_count": 12,
   "id": "4924358d",
   "metadata": {},
   "outputs": [
    {
     "name": "stdout",
     "output_type": "stream",
     "text": [
      "Prediction before training: f(5) = 0.000\n",
      "Epoch 0: w = 0.300, loss=30.00000000\n",
      "Epoch 10: w = 1.665, loss=1.16278565\n",
      "Epoch 20: w = 1.934, loss=0.04506890\n",
      "Epoch 30: w = 1.987, loss=0.00174685\n",
      "Epoch 40: w = 1.997, loss=0.00006770\n",
      "Epoch 50: w = 1.999, loss=0.00000262\n",
      "Epoch 60: w = 2.000, loss=0.00000010\n",
      "Epoch 70: w = 2.000, loss=0.00000000\n",
      "Prediction after training: 10.000\n"
     ]
    }
   ],
   "source": [
    "# The solution\n",
    "\n",
    "print(f'Prediction before training: f(5) = {forward(5):.3f}')\n",
    "\n",
    "# Training\n",
    "learning_rate = 0.01\n",
    "iter = 70\n",
    "\n",
    "for epoch in range(iter+1):\n",
    "    # prediction = forward pass\n",
    "    y_pred = forward(X)\n",
    "    \n",
    "    # loss\n",
    "    l = loss(Y, y_pred)\n",
    "    \n",
    "    # gradients = backward pass\n",
    "    l.backward() # gradient of our loss with respect to W -> dl/dw\n",
    "    \n",
    "    # update weights\n",
    "    with torch.no_grad():  # can not be part of our computational loop, so we wrap it inside the proper 'with' statement\n",
    "        w -= learning_rate * w.grad\n",
    "    \n",
    "    # zero gradients\n",
    "    w.grad.zero_()\n",
    "    \n",
    "    if epoch % 10 == 0:\n",
    "        print(f'Epoch {epoch}: w = {w:.3f}, loss={l:.8f}')\n",
    "\n",
    "print(f'Prediction after training: {forward(5):.3f}')"
   ]
  },
  {
   "cell_type": "markdown",
   "id": "261c7631",
   "metadata": {},
   "source": [
    "# Now, we will replace manual loss computation and parameter updates with PyTorch functions, as well as replace our manually constructed model with a PyTorch model class."
   ]
  },
  {
   "cell_type": "markdown",
   "id": "de40b853",
   "metadata": {},
   "source": [
    "### Classic 3-step approach in a training pipeline:\n",
    "1. Design the model (input/output size, forward pass)\n",
    "2. Construct loss and optimizer\n",
    "3. Training loop:\n",
    "- forward pass: compute prediction\n",
    "- backward pass: get gradients\n",
    "- update weights "
   ]
  },
  {
   "cell_type": "code",
   "execution_count": 1,
   "id": "02f61fa3",
   "metadata": {},
   "outputs": [],
   "source": [
    "import torch\n",
    "import torch.nn as nn  # Neural Network module from PyTorch\n",
    "import torch.optim as opt # Optimization module from PyTorch"
   ]
  },
  {
   "cell_type": "code",
   "execution_count": 2,
   "id": "e133f819",
   "metadata": {},
   "outputs": [
    {
     "name": "stdout",
     "output_type": "stream",
     "text": [
      "Input shape is (4,1) which means our data has 4 sample(s) and 1 feature(s).\n"
     ]
    }
   ],
   "source": [
    "X = torch.tensor([[1],\n",
    "                  [2],\n",
    "                  [3],\n",
    "                  [4]], dtype=torch.float32)\n",
    "Y = torch.tensor([[2],\n",
    "                  [4],\n",
    "                  [6],\n",
    "                  [8]], dtype=torch.float32)\n",
    "print(f'Input shape is ({X.shape[0]},{X.shape[1]}) which means our data has {X.shape[0]} sample(s) and {X.shape[1]} feature(s).')\n",
    "# the representation is different - amount of rows is equal to amount of samples, and amount of columns is equal to the amount of features"
   ]
  },
  {
   "cell_type": "code",
   "execution_count": 3,
   "id": "cfe3b401",
   "metadata": {},
   "outputs": [],
   "source": [
    "n_samples, n_features = X.shape  # define our number of samples and features according to our training data\n",
    "\n",
    "input_size = n_features  # what we put into the model\n",
    "output_size = n_features  # what gets out of the model\n",
    "\n",
    "X_test = torch.tensor([5], dtype=torch.float32)  # a tensor to test our model's output"
   ]
  },
  {
   "cell_type": "markdown",
   "id": "447abd7a",
   "metadata": {},
   "source": [
    "We do not define any loss function anymore - we simply get it from PyTorch. Same goes for the optimizer."
   ]
  },
  {
   "cell_type": "code",
   "execution_count": 4,
   "id": "c0d5545a",
   "metadata": {},
   "outputs": [],
   "source": [
    "w = torch.tensor(0.0, dtype=torch.float32, requires_grad=True)\n",
    "learning_rate = 0.1\n",
    "iter = 200\n",
    "model = nn.Linear(input_size, output_size)\n",
    "loss = nn.MSELoss()\n",
    "optimizer = opt.SGD(model.parameters(), lr=learning_rate)"
   ]
  },
  {
   "cell_type": "code",
   "execution_count": 5,
   "id": "870988bb",
   "metadata": {},
   "outputs": [
    {
     "name": "stdout",
     "output_type": "stream",
     "text": [
      "Prediction before training: -4.672\n",
      "Epoch 0: w = 3.830, loss=70.14845276\n",
      "Epoch 25: w = 1.996, loss=0.00002533\n",
      "Epoch 50: w = 1.998, loss=0.00000551\n",
      "Epoch 75: w = 1.999, loss=0.00000121\n",
      "Epoch 100: w = 2.000, loss=0.00000026\n",
      "Epoch 125: w = 2.000, loss=0.00000006\n",
      "Epoch 150: w = 2.000, loss=0.00000001\n",
      "Epoch 175: w = 2.000, loss=0.00000000\n",
      "Epoch 200: w = 2.000, loss=0.00000000\n",
      "Prediction after training: 10.000\n"
     ]
    }
   ],
   "source": [
    "print(f'Prediction before training: {model(X_test).item():.3f}')\n",
    "for epoch in range(iter+1):\n",
    "    #prediction - forward pass\n",
    "    y_pred = model(X)\n",
    "    # compute loss\n",
    "    l = loss(Y, y_pred)\n",
    "    # compute gradients\n",
    "    l.backward()\n",
    "    # update weights\n",
    "    optimizer.step()\n",
    "    # zero gradients\n",
    "    optimizer.zero_grad()\n",
    "    # print results of ongoing training\n",
    "    if epoch % 25 == 0:\n",
    "        [w,b] = model.parameters()\n",
    "        print(f'Epoch {epoch}: w = {w[0][0].item():.3f}, loss={l:.8f}')\n",
    "\n",
    "print(f'Prediction after training: {model(X_test).item():.3f}')"
   ]
  },
  {
   "cell_type": "markdown",
   "id": "4bd766b6",
   "metadata": {},
   "source": [
    "### We can also define our own model which derives from PyTorch model, and use it instead."
   ]
  },
  {
   "cell_type": "code",
   "execution_count": 6,
   "id": "ad0e42be",
   "metadata": {},
   "outputs": [],
   "source": [
    "class LinearRegression(nn.Module):\n",
    "    \n",
    "    def __init__(self, input_dim, output_dim):\n",
    "        super(LinearRegression, self).__init__()\n",
    "        # define layers\n",
    "        self.lin = nn.Linear(input_dim, output_dim)\n",
    "        \n",
    "    def forward(self, x):\n",
    "        return self.lin(x)"
   ]
  },
  {
   "cell_type": "code",
   "execution_count": 7,
   "id": "f04c049c",
   "metadata": {},
   "outputs": [],
   "source": [
    "w = torch.tensor(0.0, dtype=torch.float32, requires_grad=True)\n",
    "learning_rate = 0.1\n",
    "iter = 200\n",
    "model = LinearRegression(input_size, output_size)\n",
    "loss = nn.MSELoss()\n",
    "optimizer = opt.SGD(model.parameters(), lr=learning_rate)"
   ]
  },
  {
   "cell_type": "code",
   "execution_count": 8,
   "id": "bdc40b0b",
   "metadata": {},
   "outputs": [
    {
     "name": "stdout",
     "output_type": "stream",
     "text": [
      "Prediction before training: 3.493\n",
      "Epoch 0: w = 2.576, loss=12.22595215\n",
      "Epoch 25: w = 1.911, loss=0.01208516\n",
      "Epoch 50: w = 1.958, loss=0.00264364\n",
      "Epoch 75: w = 1.981, loss=0.00057831\n",
      "Epoch 100: w = 1.991, loss=0.00012651\n",
      "Epoch 125: w = 1.996, loss=0.00002767\n",
      "Epoch 150: w = 1.998, loss=0.00000605\n",
      "Epoch 175: w = 1.999, loss=0.00000132\n",
      "Epoch 200: w = 2.000, loss=0.00000029\n",
      "Prediction after training: 9.999\n"
     ]
    }
   ],
   "source": [
    "print(f'Prediction before training: {model(X_test).item():.3f}')\n",
    "for epoch in range(iter+1):\n",
    "    #prediction - forward pass\n",
    "    y_pred = model(X)\n",
    "    # compute loss\n",
    "    l = loss(Y, y_pred)\n",
    "    # compute gradients\n",
    "    l.backward()\n",
    "    # update weights\n",
    "    optimizer.step()\n",
    "    # zero gradients\n",
    "    optimizer.zero_grad()\n",
    "    # print results of ongoing training\n",
    "    if epoch % 25 == 0:\n",
    "        [w,b] = model.parameters()\n",
    "        print(f'Epoch {epoch}: w = {w[0][0].item():.3f}, loss={l:.8f}')\n",
    "\n",
    "print(f'Prediction after training: {model(X_test).item():.3f}')"
   ]
  }
 ],
 "metadata": {
  "kernelspec": {
   "display_name": "pytorch_gpu",
   "language": "python",
   "name": "pytorch_gpu"
  },
  "language_info": {
   "codemirror_mode": {
    "name": "ipython",
    "version": 3
   },
   "file_extension": ".py",
   "mimetype": "text/x-python",
   "name": "python",
   "nbconvert_exporter": "python",
   "pygments_lexer": "ipython3",
   "version": "3.10.6"
  }
 },
 "nbformat": 4,
 "nbformat_minor": 5
}
