{
 "cells": [
  {
   "cell_type": "code",
   "execution_count": 1,
   "id": "7a2cafd2",
   "metadata": {},
   "outputs": [],
   "source": [
    "import torch"
   ]
  },
  {
   "cell_type": "code",
   "execution_count": 2,
   "id": "a9e5660f",
   "metadata": {},
   "outputs": [],
   "source": [
    "x = torch.tensor(1.0)  # our input\n",
    "y = torch.tensor(2.0)  # our exact output\n",
    "w = torch.tensor(1.0, requires_grad=True)  # our vector of weights"
   ]
  },
  {
   "cell_type": "code",
   "execution_count": 3,
   "id": "d7c2dcae",
   "metadata": {},
   "outputs": [
    {
     "name": "stdout",
     "output_type": "stream",
     "text": [
      "tensor(1., grad_fn=<PowBackward0>)\n"
     ]
    }
   ],
   "source": [
    "# 1. Forward pass and compute loss.\n",
    "y_hat = w * x  # our predicted output\n",
    "loss = (y_hat - y)**2  # our loss function\n",
    "\n",
    "print(loss)"
   ]
  },
  {
   "cell_type": "code",
   "execution_count": 4,
   "id": "14115581",
   "metadata": {},
   "outputs": [
    {
     "name": "stdout",
     "output_type": "stream",
     "text": [
      "tensor(-2.)\n"
     ]
    }
   ],
   "source": [
    "# 2. Backward pass - this part is done by PyTorch automatically after specifying the requires_grad parameter.\n",
    "loss.backward()  # call the function to compute backpropagation\n",
    "print(w.grad)  # check if our answer is correct"
   ]
  },
  {
   "cell_type": "code",
   "execution_count": 5,
   "id": "e87de66f",
   "metadata": {},
   "outputs": [
    {
     "name": "stdout",
     "output_type": "stream",
     "text": [
      "Loss:1.0\n",
      "Gradients:-4.0\n",
      "Loss:1.0\n",
      "Gradients:-6.0\n",
      "Loss:1.0\n",
      "Gradients:-8.0\n"
     ]
    }
   ],
   "source": [
    "iter = 3\n",
    "\n",
    "for _ in range(iter):\n",
    "    y_hat = w*x\n",
    "    loss = (y_hat - y)**2\n",
    "    print(f\"Loss:{loss}\")\n",
    "    loss.backward()\n",
    "    print(f\"Gradients:{w.grad}\")\n",
    "#     w.grad.zero_()  # updating out weights' gradients"
   ]
  }
 ],
 "metadata": {
  "kernelspec": {
   "display_name": "pytorch_gpu",
   "language": "python",
   "name": "pytorch_gpu"
  },
  "language_info": {
   "codemirror_mode": {
    "name": "ipython",
    "version": 3
   },
   "file_extension": ".py",
   "mimetype": "text/x-python",
   "name": "python",
   "nbconvert_exporter": "python",
   "pygments_lexer": "ipython3",
   "version": "3.10.6"
  }
 },
 "nbformat": 4,
 "nbformat_minor": 5
}
