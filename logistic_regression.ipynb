{
 "cells": [
  {
   "cell_type": "markdown",
   "id": "696f781a",
   "metadata": {},
   "source": [
    "## In this notebook an implementation of a logistic regression model is presented."
   ]
  },
  {
   "cell_type": "code",
   "execution_count": 1,
   "id": "13125ea2",
   "metadata": {},
   "outputs": [],
   "source": [
    "import torch\n",
    "import torch.nn as nn\n",
    "import numpy as np\n",
    "from sklearn import datasets\n",
    "from sklearn.preprocessing import StandardScaler\n",
    "from sklearn.model_selection import train_test_split"
   ]
  },
  {
   "cell_type": "markdown",
   "id": "1bac1f42",
   "metadata": {},
   "source": [
    "## Step 0: Data preparation"
   ]
  },
  {
   "cell_type": "code",
   "execution_count": 2,
   "id": "18b6d364",
   "metadata": {},
   "outputs": [
    {
     "name": "stdout",
     "output_type": "stream",
     "text": [
      "Dataset consists of 569 samples and 30 features.\n"
     ]
    }
   ],
   "source": [
    "bc = datasets.load_breast_cancer()\n",
    "X, y = bc.data, bc.target\n",
    "\n",
    "n_samples, n_features = X.shape\n",
    "print(f\"Dataset consists of {n_samples} samples and {n_features} features.\")\n",
    "\n",
    "X_train, X_test, y_train, y_test = train_test_split(X, y, test_size=0.2, random_state=1234)\n",
    "\n",
    "# scale the data - after the operation, they will have mean=0 and variance=1\n",
    "sc = StandardScaler()\n",
    "X_train = sc.fit_transform(X_train)\n",
    "X_test = sc.fit_transform(X_test)\n",
    "#convert the data from NumPy ndarrays to PyTorch tensors\n",
    "X_train = torch.from_numpy(X_train.astype(np.float32))\n",
    "X_test = torch.from_numpy(X_test.astype(np.float32))\n",
    "y_train = torch.from_numpy(y_train.astype(np.float32))\n",
    "y_test = torch.from_numpy(y_test.astype(np.float32))\n",
    "# make y_train and y_test column vectors\n",
    "y_train = y_train.view(y_train.shape[0],1)\n",
    "y_test = y_test.view(y_test.shape[0],1)"
   ]
  },
  {
   "cell_type": "markdown",
   "id": "3c78fcff",
   "metadata": {},
   "source": [
    "## Step 1: Design model\n",
    "- input size\n",
    "- output size\n",
    "- forward pass"
   ]
  },
  {
   "cell_type": "markdown",
   "id": "b86e00bf",
   "metadata": {},
   "source": [
    "In logistic regression, our function looks as following:<br>\n",
    "*f = wx + b*,<br>and we apply a **sigmoid** function to it at the end.<br>\n",
    "Because of that, we need to make our own model."
   ]
  },
  {
   "cell_type": "code",
   "execution_count": 3,
   "id": "d52c5611",
   "metadata": {},
   "outputs": [],
   "source": [
    "class LogisticRegressionModel(nn.Module):\n",
    "    \n",
    "    def __init__(self, n_input_features):\n",
    "        super(LogisticRegressionModel, self).__init__()\n",
    "        self.linear = nn.Linear(n_input_features, 1)\n",
    "        \n",
    "    def forward(self, x):\n",
    "        y_predicted = torch.sigmoid(self.linear(x))\n",
    "        return y_predicted"
   ]
  },
  {
   "cell_type": "markdown",
   "id": "d67caa94",
   "metadata": {},
   "source": [
    "## Step 2: Construct loss and optimizer"
   ]
  },
  {
   "cell_type": "code",
   "execution_count": 4,
   "id": "525720d3",
   "metadata": {},
   "outputs": [],
   "source": [
    "model = LogisticRegressionModel(n_features)\n",
    "learning_rate = 0.2\n",
    "loss_fcn = nn.BCELoss()\n",
    "optimizer = torch.optim.SGD(model.parameters(), lr=learning_rate)"
   ]
  },
  {
   "cell_type": "markdown",
   "id": "ffd207af",
   "metadata": {},
   "source": [
    "## Step 3: Training loop\n",
    "- forward pass: compute prediction and loss\n",
    "- backward pass: compute gradients\n",
    "- update weights"
   ]
  },
  {
   "cell_type": "code",
   "execution_count": 5,
   "id": "58d06bb1",
   "metadata": {},
   "outputs": [
    {
     "name": "stdout",
     "output_type": "stream",
     "text": [
      "Epoch: 0, loss = 0.78482479\n",
      "Epoch: 10, loss = 0.17491864\n",
      "Epoch: 20, loss = 0.12759049\n",
      "Epoch: 30, loss = 0.10691942\n",
      "Epoch: 40, loss = 0.09497438\n",
      "Epoch: 50, loss = 0.08698919\n",
      "Epoch: 60, loss = 0.08116893\n",
      "Epoch: 70, loss = 0.07667901\n",
      "Epoch: 80, loss = 0.07307404\n",
      "Epoch: 90, loss = 0.07009244\n",
      "Epoch: 100, loss = 0.06756939\n",
      "Epoch: 110, loss = 0.06539532\n",
      "Epoch: 120, loss = 0.06349424\n",
      "Epoch: 130, loss = 0.06181150\n",
      "Epoch: 140, loss = 0.06030681\n",
      "Epoch: 150, loss = 0.05894960\n",
      "Epoch: 160, loss = 0.05771627\n",
      "Epoch: 170, loss = 0.05658824\n",
      "Epoch: 180, loss = 0.05555066\n",
      "Epoch: 190, loss = 0.05459152\n",
      "Epoch: 200, loss = 0.05370095\n",
      "Epoch: 210, loss = 0.05287078\n",
      "Epoch: 220, loss = 0.05209415\n",
      "Epoch: 230, loss = 0.05136529\n",
      "Epoch: 240, loss = 0.05067926\n",
      "Epoch: 250, loss = 0.05003184\n",
      "Epoch: 260, loss = 0.04941937\n",
      "Epoch: 270, loss = 0.04883870\n",
      "Epoch: 280, loss = 0.04828704\n",
      "Epoch: 290, loss = 0.04776196\n",
      "Epoch: 300, loss = 0.04726129\n",
      "Accurracy: 0.9649\n"
     ]
    }
   ],
   "source": [
    "epochs = 300\n",
    "\n",
    "for epoch in range(epochs+1):\n",
    "    # forward pass and loss computation\n",
    "    y_predicted = model(X_train)\n",
    "    loss = loss_fcn(y_predicted, y_train)\n",
    "    # backward pass\n",
    "    loss.backward()\n",
    "    # updates\n",
    "    optimizer.step()\n",
    "    # zero gradients\n",
    "    optimizer.zero_grad()\n",
    "    \n",
    "    if (epoch % 10) == 0:\n",
    "        print(f\"Epoch: {epoch}, loss = {loss.item():.8f}\")\n",
    "        \n",
    "with torch.no_grad():\n",
    "    y_predicted = model(X_test)  # test run to evaluate the model via the accurracy criterion\n",
    "    y_predicted_cls = y_predicted.round()  # conversion to class labels - 0 (no breast cancer) or 1 (breast cancer) - sigmoid function returns probability between 0 and 1, so we want to round it go get the answer\n",
    "    acc = y_predicted_cls.eq(y_test).sum() / float(y_test.shape[0])\n",
    "    print(f\"Accurracy: {acc:.4f}\")\n",
    "    \n",
    "    "
   ]
  },
  {
   "cell_type": "code",
   "execution_count": null,
   "id": "b13f2f51",
   "metadata": {},
   "outputs": [],
   "source": []
  }
 ],
 "metadata": {
  "kernelspec": {
   "display_name": "Python 3 (ipykernel)",
   "language": "python",
   "name": "python3"
  },
  "language_info": {
   "codemirror_mode": {
    "name": "ipython",
    "version": 3
   },
   "file_extension": ".py",
   "mimetype": "text/x-python",
   "name": "python",
   "nbconvert_exporter": "python",
   "pygments_lexer": "ipython3",
   "version": "3.10.6"
  }
 },
 "nbformat": 4,
 "nbformat_minor": 5
}
